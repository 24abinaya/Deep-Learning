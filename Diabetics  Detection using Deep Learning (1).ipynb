{
 "cells": [
  {
   "cell_type": "code",
   "execution_count": null,
   "metadata": {},
   "outputs": [],
   "source": [
    "#dataset \n",
    "'''\n",
    "   1. Number of times pregnant\n",
    "   2. Plasma glucose concentration a 2 hours in an oral glucose tolerance test\n",
    "   3. Diastolic blood pressure (mm Hg)\n",
    "   4. Triceps skin fold thickness (mm)\n",
    "   5. 2-Hour serum insulin (mu U/ml)\n",
    "   6. Body mass index (weight in kg/(height in m)^2)\n",
    "   7. Diabetes pedigree function\n",
    "   8. Age (years)\n",
    "   9. Class variable (0 or 1)\n",
    "'''"
   ]
  },
  {
   "cell_type": "code",
   "execution_count": 4,
   "metadata": {},
   "outputs": [],
   "source": [
    "from numpy import loadtxt #handle/load dataset\n",
    "\n",
    "from keras.models import Sequential #Empty working area \n",
    "from keras.layers import Dense #Dense layer \n",
    "from keras.models import model_from_json"
   ]
  },
  {
   "cell_type": "code",
   "execution_count": null,
   "metadata": {},
   "outputs": [],
   "source": [
    "#training"
   ]
  },
  {
   "cell_type": "code",
   "execution_count": 5,
   "metadata": {},
   "outputs": [
    {
     "name": "stdout",
     "output_type": "stream",
     "text": [
      "[[  6.    148.     72.    ...  33.6     0.627  50.   ]\n",
      " [  1.     85.     66.    ...  26.6     0.351  31.   ]\n",
      " [  8.    183.     64.    ...  23.3     0.672  32.   ]\n",
      " ...\n",
      " [  5.    121.     72.    ...  26.2     0.245  30.   ]\n",
      " [  1.    126.     60.    ...  30.1     0.349  47.   ]\n",
      " [  1.     93.     70.    ...  30.4     0.315  23.   ]]\n"
     ]
    }
   ],
   "source": [
    "dataset = loadtxt('C:/Users/HP/Downloads/Data_Science Project/Code/pima-indians-diabetes.csv', delimiter=',')\n",
    "x = dataset[:,0:8]\n",
    "y = dataset[:,8]\n",
    "print(x)\n"
   ]
  },
  {
   "cell_type": "code",
   "execution_count": 6,
   "metadata": {},
   "outputs": [],
   "source": [
    "model = Sequential()\n",
    "model.add(Dense(12, input_dim=8, activation='relu'))\n",
    "model.add(Dense(8, activation='relu'))\n",
    "model.add(Dense(1, activation='sigmoid'))"
   ]
  },
  {
   "cell_type": "code",
   "execution_count": 17,
   "metadata": {},
   "outputs": [
    {
     "name": "stdout",
     "output_type": "stream",
     "text": [
      "Epoch 1/20\n",
      "77/77 [==============================] - 6s 9ms/step - loss: 0.8062 - accuracy: 0.6029\n",
      "Epoch 2/20\n",
      "77/77 [==============================] - 1s 11ms/step - loss: 0.7144 - accuracy: 0.6289\n",
      "Epoch 3/20\n",
      "77/77 [==============================] - 1s 12ms/step - loss: 0.6980 - accuracy: 0.6198\n",
      "Epoch 4/20\n",
      "77/77 [==============================] - 1s 15ms/step - loss: 0.6683 - accuracy: 0.6406\n",
      "Epoch 5/20\n",
      "77/77 [==============================] - 1s 8ms/step - loss: 0.6419 - accuracy: 0.6432\n",
      "Epoch 6/20\n",
      "77/77 [==============================] - 1s 11ms/step - loss: 0.6265 - accuracy: 0.6654\n",
      "Epoch 7/20\n",
      "77/77 [==============================] - 1s 8ms/step - loss: 0.6194 - accuracy: 0.6549\n",
      "Epoch 8/20\n",
      "77/77 [==============================] - 1s 10ms/step - loss: 0.6212 - accuracy: 0.6849\n",
      "Epoch 9/20\n",
      "77/77 [==============================] - 1s 11ms/step - loss: 0.6043 - accuracy: 0.6667\n",
      "Epoch 10/20\n",
      "77/77 [==============================] - 1s 8ms/step - loss: 0.6037 - accuracy: 0.6654\n",
      "Epoch 11/20\n",
      "77/77 [==============================] - 0s 5ms/step - loss: 0.5921 - accuracy: 0.6771\n",
      "Epoch 12/20\n",
      "77/77 [==============================] - 0s 5ms/step - loss: 0.5925 - accuracy: 0.6875\n",
      "Epoch 13/20\n",
      "77/77 [==============================] - 1s 7ms/step - loss: 0.5853 - accuracy: 0.6901\n",
      "Epoch 14/20\n",
      "77/77 [==============================] - 0s 4ms/step - loss: 0.5968 - accuracy: 0.6927\n",
      "Epoch 15/20\n",
      "77/77 [==============================] - 0s 4ms/step - loss: 0.5868 - accuracy: 0.6888\n",
      "Epoch 16/20\n",
      "77/77 [==============================] - 0s 4ms/step - loss: 0.5870 - accuracy: 0.7070\n",
      "Epoch 17/20\n",
      "77/77 [==============================] - 0s 4ms/step - loss: 0.5773 - accuracy: 0.7083\n",
      "Epoch 18/20\n",
      "77/77 [==============================] - 0s 4ms/step - loss: 0.5779 - accuracy: 0.7005\n",
      "Epoch 19/20\n",
      "77/77 [==============================] - 0s 4ms/step - loss: 0.5752 - accuracy: 0.6927\n",
      "Epoch 20/20\n",
      "77/77 [==============================] - 0s 4ms/step - loss: 0.5853 - accuracy: 0.6862\n"
     ]
    },
    {
     "data": {
      "text/plain": [
       "<keras.src.callbacks.History at 0x2029aa91f70>"
      ]
     },
     "execution_count": 17,
     "metadata": {},
     "output_type": "execute_result"
    }
   ],
   "source": [
    "model.compile(loss='binary_crossentropy', optimizer='adam', metrics=['accuracy'])\n",
    "model.fit(x, y, epochs=20, batch_size=10)"
   ]
  },
  {
   "cell_type": "code",
   "execution_count": 18,
   "metadata": {},
   "outputs": [
    {
     "name": "stdout",
     "output_type": "stream",
     "text": [
      "24/24 [==============================] - 1s 12ms/step - loss: 0.5589 - accuracy: 0.7318\n",
      "Accuracy: 73.18\n"
     ]
    }
   ],
   "source": [
    "_, accuracy = model.evaluate(x, y)\n",
    "print('Accuracy: %.2f' % (accuracy*100))"
   ]
  },
  {
   "cell_type": "code",
   "execution_count": 19,
   "metadata": {},
   "outputs": [
    {
     "name": "stdout",
     "output_type": "stream",
     "text": [
      "Saved model to disk\n"
     ]
    }
   ],
   "source": [
    "model_json = model.to_json()\n",
    "with open(\"model.json\", \"w\") as json_file:\n",
    "    json_file.write(model_json)\n",
    "model.save_weights(\"model.h5\")\n",
    "print(\"Saved model to disk\")\n"
   ]
  },
  {
   "cell_type": "code",
   "execution_count": 10,
   "metadata": {},
   "outputs": [],
   "source": [
    "#testing"
   ]
  },
  {
   "cell_type": "code",
   "execution_count": 20,
   "metadata": {},
   "outputs": [],
   "source": [
    "json_file = open('model.json', 'r')\n",
    "loaded_model_json = json_file.read()\n",
    "json_file.close()"
   ]
  },
  {
   "cell_type": "code",
   "execution_count": 22,
   "metadata": {},
   "outputs": [
    {
     "name": "stdout",
     "output_type": "stream",
     "text": [
      "24/24 [==============================] - 0s 6ms/step\n"
     ]
    }
   ],
   "source": [
    "import numpy as np\n",
    "predictions = np.argmax(model.predict(x), axis=1)\n",
    "\n"
   ]
  },
  {
   "cell_type": "code",
   "execution_count": 23,
   "metadata": {},
   "outputs": [
    {
     "name": "stdout",
     "output_type": "stream",
     "text": [
      "[5.0, 116.0, 74.0, 0.0, 0.0, 25.6, 0.201, 30.0] => 0 (Original Class: 0)\n",
      "[3.0, 78.0, 50.0, 32.0, 88.0, 31.0, 0.248, 26.0] => 0 (Original Class: 1)\n",
      "[10.0, 115.0, 0.0, 0.0, 0.0, 35.3, 0.134, 29.0] => 0 (Original Class: 0)\n",
      "[2.0, 197.0, 70.0, 45.0, 543.0, 30.5, 0.158, 53.0] => 0 (Original Class: 1)\n",
      "[8.0, 125.0, 96.0, 0.0, 0.0, 0.0, 0.232, 54.0] => 0 (Original Class: 1)\n"
     ]
    }
   ],
   "source": [
    "for i in range(5,10):\n",
    "\tprint('%s => %d (Original Class: %d)' % (x[i].tolist(), predictions[i], y[i]))"
   ]
  },
  {
   "cell_type": "code",
   "execution_count": null,
   "metadata": {},
   "outputs": [],
   "source": []
  }
 ],
 "metadata": {
  "kernelspec": {
   "display_name": "Python 3",
   "language": "python",
   "name": "python3"
  },
  "language_info": {
   "codemirror_mode": {
    "name": "ipython",
    "version": 3
   },
   "file_extension": ".py",
   "mimetype": "text/x-python",
   "name": "python",
   "nbconvert_exporter": "python",
   "pygments_lexer": "ipython3",
   "version": "3.8.5"
  }
 },
 "nbformat": 4,
 "nbformat_minor": 4
}
